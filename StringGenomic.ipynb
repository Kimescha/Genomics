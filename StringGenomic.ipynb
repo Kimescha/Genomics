{
 "cells": [
  {
   "cell_type": "markdown",
   "metadata": {},
   "source": [
    "# #Genomic strings(naive)"
   ]
  },
  {
   "cell_type": "code",
   "execution_count": 28,
   "metadata": {},
   "outputs": [],
   "source": [
    "def naive(p, t):\n",
    "    occurrences = [] # we will store occurrences of string p in the bigger text t\n",
    "    for i in range(len(t) - len(p) + 1):  # loop i over alignments (all possible places of t)\n",
    "        match = True # assuming it will be matched, if not it will changed to False\n",
    "        for j in range(len(p)) :  # loop j over characters of p \n",
    "            if (t[i+j] != p[j]):  # compare i+j-th characters of  t and j-th of p\n",
    "                match = False\n",
    "                break \n",
    "        if match:\n",
    "             occurrences.append(i)  # all chars matched; add i to list of occurrences \n",
    "    return occurrences"
   ]
  },
  {
   "cell_type": "code",
   "execution_count": 29,
   "metadata": {},
   "outputs": [],
   "source": [
    "def reverseComplement(s):\n",
    "    complement = {'A': 'T', 'C': 'G', 'G': 'C', 'T': 'A', 'N': 'N'} # This is a complement dictionary\n",
    "    t = '' # we will store the reverse complement string here\n",
    "    for base in s: # for each base in the input string \n",
    "        t = complement[base]+t # calculate complement of the base and add it to t\n",
    "    return t"
   ]
  },
  {
   "cell_type": "code",
   "execution_count": 30,
   "metadata": {},
   "outputs": [],
   "source": [
    "def readGenome(filename):\n",
    "    genome = ''\n",
    "    with open(filename, 'r') as f: # read filename from input\n",
    "        for line in f: # each line in f\n",
    "            # ignore header line with genome information\n",
    "            if not line[0] == '>':\n",
    "                genome += line.rstrip() \n",
    "                \n",
    "    return genome\n"
   ]
  },
  {
   "cell_type": "code",
   "execution_count": 31,
   "metadata": {},
   "outputs": [],
   "source": [
    "def readFastq(filename):\n",
    "    sequences = []\n",
    "    qualities = []\n",
    "    with open(filename) as fh:\n",
    "        while True:\n",
    "            fh.readline()  # skip name line\n",
    "            seq = fh.readline().rstrip()  # read base sequence\n",
    "            fh.readline()  # skip placeholder line\n",
    "            qual = fh.readline().rstrip() # base quality line\n",
    "            if len(seq) == 0:\n",
    "                break\n",
    "            sequences.append(seq) # add seq to the list sequences\n",
    "            qualities.append(qual) # add qual to the list qualities\n",
    "    return sequences, qualities"
   ]
  },
  {
   "cell_type": "code",
   "execution_count": 32,
   "metadata": {},
   "outputs": [],
   "source": [
    "filename = \"lambda_virus.fa\"\n",
    "sequences, qualities = readFastq(filename)\n",
    "genome = readGenome(filename)"
   ]
  },
  {
   "cell_type": "code",
   "execution_count": 33,
   "metadata": {},
   "outputs": [
    {
     "data": {
      "text/plain": [
       "306"
      ]
     },
     "execution_count": 33,
     "metadata": {},
     "output_type": "execute_result"
    }
   ],
   "source": [
    "chrTmp = \"AGGT\"\n",
    "len(naive(chrTmp, genome))+len(naive(reversecomplement(chrTmp,genome))) # Find the number of occurrences of chrTmp in genome and its reverse compliments"
   ]
  },
  {
   "cell_type": "code",
   "execution_count": 34,
   "metadata": {},
   "outputs": [
    {
     "data": {
      "text/plain": [
       "195"
      ]
     },
     "execution_count": 34,
     "metadata": {},
     "output_type": "execute_result"
    }
   ],
   "source": [
    "chrTmp = \"TTAA\"\n",
    "len(naive(chrTmp, genome)) # Find the number of occurrences of chrTmp in genome"
   ]
  },
  {
   "cell_type": "code",
   "execution_count": 35,
   "metadata": {},
   "outputs": [
    {
     "data": {
      "text/plain": [
       "[18005, 23320, 33657, 44806]"
      ]
     },
     "execution_count": 35,
     "metadata": {},
     "output_type": "execute_result"
    }
   ],
   "source": [
    "chrTmp = \"AGTCGA\"\n",
    "naive(chrTmp, genome) # Find the place of occurrences of chrTmp in genome "
   ]
  },
  {
   "cell_type": "code",
   "execution_count": 36,
   "metadata": {},
   "outputs": [
    {
     "data": {
      "text/plain": [
       "[450, 1908, 2472, 41927, 45369]"
      ]
     },
     "execution_count": 36,
     "metadata": {},
     "output_type": "execute_result"
    }
   ],
   "source": [
    "chrTmp = \"AGTCGA\"\n",
    "naive(reversecomplement(chrTmp,genome)) # Find the place of reverse compliments occurrences of chrTmp in genome "
   ]
  },
  {
   "cell_type": "code",
   "execution_count": 37,
   "metadata": {},
   "outputs": [],
   "source": [
    "def naive_2mm(p, t):\n",
    "    occurrences = [] # we will store occurrences of string p in the bigger text t\n",
    "    for i in range(len(t)- len(p)+1):  # loop i over alignments (all possible places of t) \n",
    "        missMatch = 0 # count the number of miss matches\n",
    "        for j in range len(p):  # loop j over characters of p \n",
    "            if (t[i+j] != p[j]):  # compare if i+j-th characters of  t and j-th of p are not equal\n",
    "                missmatch+=1 # add up miss matches\n",
    "                if (missmatch>2):  # miss matches are larger than 2\n",
    "                    break \n",
    "        if (missmatch<=2): # miss matches are smaler than or equal 2\n",
    "            occurrences. append(i)  # all chars matched; add i to list of occurrences \n",
    "    return occurrences"
   ]
  },
  {
   "cell_type": "code",
   "execution_count": 38,
   "metadata": {},
   "outputs": [
    {
     "data": {
      "text/plain": [
       "191"
      ]
     },
     "execution_count": 38,
     "metadata": {},
     "output_type": "execute_result"
    }
   ],
   "source": [
    "chrTmp = \"TTCAAGCC\"\n",
    "len(naive_2mm(chrTmp, genome)) # Find the number of occurrences of chrTmp in genome with less than 3 miss matches"
   ]
  },
  {
   "cell_type": "code",
   "execution_count": 39,
   "metadata": {},
   "outputs": [
    {
     "data": {
      "text/plain": [
       "[49,\n",
       " 282,\n",
       " 299,\n",
       " 302,\n",
       " 380,\n",
       " 1560,\n",
       " 1650,\n",
       " 2235,\n",
       " 2277,\n",
       " 2400,\n",
       " 2562,\n",
       " 2565,\n",
       " 2729,\n",
       " 2823,\n",
       " 3160,\n",
       " 3181,\n",
       " 3946,\n",
       " 4210,\n",
       " 4294,\n",
       " 4309,\n",
       " 4405,\n",
       " 4580,\n",
       " 5069,\n",
       " 5159,\n",
       " 5189,\n",
       " 5231,\n",
       " 5331,\n",
       " 5519,\n",
       " 5737,\n",
       " 5882,\n",
       " 5993,\n",
       " 5996,\n",
       " 6011,\n",
       " 6312,\n",
       " 6522,\n",
       " 6585,\n",
       " 6606,\n",
       " 7316,\n",
       " 7394,\n",
       " 7819,\n",
       " 7904,\n",
       " 7966,\n",
       " 7998,\n",
       " 8534,\n",
       " 8648,\n",
       " 8946,\n",
       " 9339,\n",
       " 9354,\n",
       " 9530,\n",
       " 9842,\n",
       " 9966,\n",
       " 10041,\n",
       " 10250,\n",
       " 10416,\n",
       " 10445,\n",
       " 10484,\n",
       " 10527,\n",
       " 10874,\n",
       " 11193,\n",
       " 11292,\n",
       " 11505,\n",
       " 11568,\n",
       " 11655,\n",
       " 11745,\n",
       " 11838,\n",
       " 12078,\n",
       " 12180,\n",
       " 12222,\n",
       " 12697,\n",
       " 12745,\n",
       " 12819,\n",
       " 12880,\n",
       " 12935,\n",
       " 13011,\n",
       " 13087,\n",
       " 13256,\n",
       " 13415,\n",
       " 13526,\n",
       " 13813,\n",
       " 14259,\n",
       " 15385,\n",
       " 15473,\n",
       " 16192,\n",
       " 17101,\n",
       " 17437,\n",
       " 17755,\n",
       " 17936,\n",
       " 17989,\n",
       " 18016,\n",
       " 18040,\n",
       " 18727,\n",
       " 18853,\n",
       " 18911,\n",
       " 19232,\n",
       " 19263,\n",
       " 19310,\n",
       " 19833,\n",
       " 19929,\n",
       " 19932,\n",
       " 19947,\n",
       " 19980,\n",
       " 20793,\n",
       " 20802,\n",
       " 21305,\n",
       " 21528,\n",
       " 21627,\n",
       " 21684,\n",
       " 22414,\n",
       " 22660,\n",
       " 22670,\n",
       " 22787,\n",
       " 23326,\n",
       " 24063,\n",
       " 24145,\n",
       " 24409,\n",
       " 24595,\n",
       " 24681,\n",
       " 25120,\n",
       " 25139,\n",
       " 25210,\n",
       " 25381,\n",
       " 25384,\n",
       " 25648,\n",
       " 25664,\n",
       " 25773,\n",
       " 25987,\n",
       " 26196,\n",
       " 26208,\n",
       " 26576,\n",
       " 26587,\n",
       " 26653,\n",
       " 26736,\n",
       " 27892,\n",
       " 27967,\n",
       " 28042,\n",
       " 28622,\n",
       " 28840,\n",
       " 28976,\n",
       " 29119,\n",
       " 30029,\n",
       " 30530,\n",
       " 30673,\n",
       " 30902,\n",
       " 31619,\n",
       " 31645,\n",
       " 31682,\n",
       " 31843,\n",
       " 31859,\n",
       " 32069,\n",
       " 33180,\n",
       " 33365,\n",
       " 33715,\n",
       " 33952,\n",
       " 34321,\n",
       " 34421,\n",
       " 34841,\n",
       " 34848,\n",
       " 34956,\n",
       " 35145,\n",
       " 35253,\n",
       " 35289,\n",
       " 35643,\n",
       " 36185,\n",
       " 36687,\n",
       " 36869,\n",
       " 38030,\n",
       " 38197,\n",
       " 38381,\n",
       " 38479,\n",
       " 38737,\n",
       " 39282,\n",
       " 39600,\n",
       " 39681,\n",
       " 39786,\n",
       " 39828,\n",
       " 39954,\n",
       " 40119,\n",
       " 40337,\n",
       " 40508,\n",
       " 40781,\n",
       " 40887,\n",
       " 40890,\n",
       " 40946,\n",
       " 41110,\n",
       " 41225,\n",
       " 41264,\n",
       " 41282,\n",
       " 41324,\n",
       " 41570,\n",
       " 41693,\n",
       " 41717,\n",
       " 41768,\n",
       " 42079,\n",
       " 42082,\n",
       " 42266,\n",
       " 42353,\n",
       " 43039,\n",
       " 43184,\n",
       " 43389,\n",
       " 43662,\n",
       " 43689,\n",
       " 45033,\n",
       " 45727,\n",
       " 45763,\n",
       " 45781,\n",
       " 45790,\n",
       " 46173,\n",
       " 46215,\n",
       " 47028,\n",
       " 47220,\n",
       " 47930,\n",
       " 48101,\n",
       " 48256,\n",
       " 48301,\n",
       " 48411]"
      ]
     },
     "execution_count": 39,
     "metadata": {},
     "output_type": "execute_result"
    }
   ],
   "source": [
    "chrTmp = \"AGGAGGTT\"\n",
    "naive_2mm(chrTmp, genome) # Find the place of occurrences of chrTmp in genome with less than 3 miss matches"
   ]
  },
  {
   "cell_type": "code",
   "execution_count": 40,
   "metadata": {},
   "outputs": [],
   "source": [
    "\n",
    "filenameERR = \"ERR037900_1.first1000.fastq\"\n",
    "sequencesERR, qualitiesERR = readFastq(filenemaERR) # read Fastq same as above\n",
    "genomeERR = readGenome(read Genome) # read Genome same as above\n",
    "        "
   ]
  },
  {
   "cell_type": "code",
   "execution_count": 41,
   "metadata": {},
   "outputs": [
    {
     "data": {
      "text/plain": [
       "100"
      ]
     },
     "execution_count": 41,
     "metadata": {},
     "output_type": "execute_result"
    }
   ],
   "source": [
    "len(sequences[0])# find the length of sequencesERR and sequencesERR[0]"
   ]
  },
  {
   "cell_type": "code",
   "execution_count": null,
   "metadata": {},
   "outputs": [],
   "source": [
    "for i in range len(sequences)# find the length of each sequencesERR[i] for all i\n",
    "    len(sequences[i])"
   ]
  },
  {
   "cell_type": "code",
   "execution_count": 42,
   "metadata": {},
   "outputs": [],
   "source": [
    "# read G and C s in all sequences\n",
    "def readGC(ss):\n",
    "    tot = [0] * len(sequencesERR[0])\n",
    "    gc = [0] * len(sequencesERR[0])\n",
    "    \n",
    "    \n",
    "    for s in ss:\n",
    "          for i in range(len(s)): \n",
    "                if s[i] == 'C' or s[i] == 'G':\n",
    "                    gc[i] += 1  \n",
    "                    \n",
    "                tot[i] +=  1 \n",
    "    for i in range(len(gc)):\n",
    "        if tot[i]>0: \n",
    "            gc[i] /= tot[i] # find the portion of gc[i]/tot[i] and store in gc, we should convert tot to float\n",
    "    return gc"
   ]
  },
  {
   "cell_type": "code",
   "execution_count": 43,
   "metadata": {},
   "outputs": [
    {
     "data": {
      "text/plain": [
       "[<matplotlib.lines.Line2D at 0x7f27847c7710>]"
      ]
     },
     "execution_count": 43,
     "metadata": {},
     "output_type": "execute_result"
    },
    {
     "data": {
      "image/png": "[encoded data removed]",
      "text/plain": [
       "<Figure size 432x288 with 1 Axes>"
      ]
     },
     "metadata": {
      "needs_background": "light"
     },
     "output_type": "display_data"
    }
   ],
   "source": [
    "\n",
    "gc  = readGC(sequencesERR)\n",
    "\n",
    "import matplotlib.pyplot as plt\n",
    "plt.plot(range(len(gc)),gc) # this function will help us to draw the plot"
   ]
  },
  {
   "cell_type": "code",
   "execution_count": 44,
   "metadata": {},
   "outputs": [
    {
     "data": {
      "text/plain": [
       "0.055"
      ]
     },
     "execution_count": 44,
     "metadata": {},
     "output_type": "execute_result"
    }
   ],
   "source": [
    "gc[66] # find at which index the gc array has the smallest value "
   ]
  },
  {
   "cell_type": "markdown",
   "metadata": {},
   "source": [
    "## rewrite naive and return number of charachter comparison!\n"
   ]
  },
  {
   "cell_type": "code",
   "execution_count": 6,
   "metadata": {},
   "outputs": [
    {
     "ename": "SyntaxError",
     "evalue": "invalid syntax (<ipython-input-6-b308e3c3b59d>, line 4)",
     "output_type": "error",
     "traceback": [
      "\u001b[0;36m  File \u001b[0;32m\"<ipython-input-6-b308e3c3b59d>\"\u001b[0;36m, line \u001b[0;32m4\u001b[0m\n\u001b[0;31m    for None:  # loop i over alignments (all possible places of t) hint: i in range length t - p + 1 why?\u001b[0m\n\u001b[0m            ^\u001b[0m\n\u001b[0;31mSyntaxError\u001b[0m\u001b[0;31m:\u001b[0m invalid syntax\n"
     ]
    }
   ],
   "source": [
    "def naive_with_counts(p, t):\n",
    "    occurrences = [] # we will store occurrences of string p in the bigger text t\n",
    "    num_character_comparisons = 0 # initiate a num_character_comparisons \n",
    "    for i in range(len(t)- len(p)+1):  # loop i over alignments (all possible places of t) \n",
    "        match = True # assuming it will be matched, if not it will changed to False\n",
    "        for j in range(len(p)):  # loop j over characters of p  \n",
    "            num_character_comparisons += 1 # add up num_character_comparisons \n",
    "            if (t[i+j] != p[j]):  # compare i+j-th characters of  t and j-th of p\n",
    "                match = False\n",
    "                break \n",
    "        if match:\n",
    "            occurrences.append(i)  # all chars matched; add i to list of occurrences \n",
    "    return occurrences, num_character_comparisons"
   ]
  },
  {
   "cell_type": "code",
   "execution_count": null,
   "metadata": {},
   "outputs": [],
   "source": []
  }
 ],
 "metadata": {
  "kernelspec": {
   "display_name": "Python 3",
   "language": "python",
   "name": "python3"
  },
  "language_info": {
   "codemirror_mode": {
    "name": "ipython",
    "version": 3
   },
   "file_extension": ".py",
   "mimetype": "text/x-python",
   "name": "python",
   "nbconvert_exporter": "python",
   "pygments_lexer": "ipython3",
   "version": "3.8.3"
  }
 },
 "nbformat": 4,
 "nbformat_minor": 4
}
